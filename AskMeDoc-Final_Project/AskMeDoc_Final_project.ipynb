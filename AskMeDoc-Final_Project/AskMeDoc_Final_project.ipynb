{
  "nbformat": 4,
  "nbformat_minor": 0,
  "metadata": {
    "colab": {
      "provenance": [],
      "gpuType": "T4"
    },
    "kernelspec": {
      "name": "python3",
      "display_name": "Python 3"
    },
    "language_info": {
      "name": "python"
    },
    "accelerator": "GPU"
  },
  "cells": [
    {
      "cell_type": "code",
      "execution_count": null,
      "metadata": {
        "id": "aYpmmfQ-ZbIh"
      },
      "outputs": [],
      "source": [
        "!pip install --upgrade langchain openai -q\n",
        "!pip install tiktoken -q\n",
        "!pip install gradio"
      ]
    },
    {
      "cell_type": "code",
      "source": [
        "import os\n",
        "\n",
        "# Set OpenAI API key\n",
        "os.environ[\"OPENAI_API_KEY\"] = \"----------------\""
      ],
      "metadata": {
        "id": "5D5W_BeBZf5X"
      },
      "execution_count": 3,
      "outputs": []
    },
    {
      "cell_type": "code",
      "source": [
        "!pip install unstructured -q\n",
        "!pip install unstructured[local-inference] -q\n",
        "!pip install detectron2@git+https://github.com/facebookresearch/detectron2.git@v0.6#egg=detectron2 -q"
      ],
      "metadata": {
        "id": "XbL5zdf9aG8a"
      },
      "execution_count": null,
      "outputs": []
    },
    {
      "cell_type": "code",
      "source": [
        "!apt-get install poppler-utils"
      ],
      "metadata": {
        "id": "HwalYTVZoRlH"
      },
      "execution_count": null,
      "outputs": []
    },
    {
      "cell_type": "code",
      "source": [
        "from langchain.document_loaders import DirectoryLoader\n",
        "\n",
        "directory = '/content/data'\n",
        "\n",
        "def load_docs(directory):\n",
        "  loader = DirectoryLoader(directory)\n",
        "  documents = loader.load()\n",
        "  return documents\n",
        "\n",
        "documents = load_docs(directory)\n",
        "len(documents)"
      ],
      "metadata": {
        "id": "fulYnj9nZr3n",
        "colab": {
          "base_uri": "https://localhost:8080/"
        },
        "outputId": "b1b0fd1a-6e67-4088-bba9-b4096beaf2c1"
      },
      "execution_count": 23,
      "outputs": [
        {
          "output_type": "execute_result",
          "data": {
            "text/plain": [
              "1"
            ]
          },
          "metadata": {},
          "execution_count": 23
        }
      ]
    },
    {
      "cell_type": "code",
      "source": [
        "from langchain.text_splitter import RecursiveCharacterTextSplitter\n",
        "\n",
        "def split_docs(documents,chunk_size=1000,chunk_overlap=20):\n",
        "  text_splitter = RecursiveCharacterTextSplitter(chunk_size=chunk_size, chunk_overlap=chunk_overlap)\n",
        "  docs = text_splitter.split_documents(documents)\n",
        "  return docs\n",
        "\n",
        "docs = split_docs(documents)\n",
        "print(len(docs))"
      ],
      "metadata": {
        "id": "5lF8jA6xZ0Hm",
        "colab": {
          "base_uri": "https://localhost:8080/"
        },
        "outputId": "5a94a780-4e78-4769-883e-4e83202ed2bf"
      },
      "execution_count": 24,
      "outputs": [
        {
          "output_type": "stream",
          "name": "stdout",
          "text": [
            "16\n"
          ]
        }
      ]
    },
    {
      "cell_type": "code",
      "source": [
        "print(docs[0].page_content)"
      ],
      "metadata": {
        "colab": {
          "base_uri": "https://localhost:8080/"
        },
        "id": "tVcFjgHJZ8S9",
        "outputId": "8d602228-06e8-46cf-8209-0a34e9423fb4"
      },
      "execution_count": 25,
      "outputs": [
        {
          "output_type": "stream",
          "name": "stdout",
          "text": [
            "The Project Gutenberg eBook of Christmas stories, by Georgene Faulkner\n",
            "\n",
            "This eBook is for the use of anyone anywhere in the United States and most other parts of the world at no cost and with almost no restrictions whatsoever. You may copy it, give it away or re-use it under the terms of the Project Gutenberg License included with this eBook or online at www.gutenberg.org. If you are not located in the United States, you will have to check the laws of the country where you are located before using this eBook.\n",
            "\n",
            "Title: Christmas stories\n",
            "\n",
            "The \"Story Lady\" series\n",
            "\n",
            "Author: Georgene Faulkner\n",
            "\n",
            "Illustrator: Frederic Richardson\n",
            "\n",
            "Release Date: November 24, 2022 [eBook #69416]\n",
            "\n",
            "Language: English\n",
            "\n",
            "Produced by: Charlene Taylor, Chuck Greif and the Online Distributed Proofreading Team at https://www.pgdp.net (This file was produced from images generously made available by The Internet Archive)\n",
            "\n",
            "*** START OF THE PROJECT GUTENBERG EBOOK CHRISTMAS STORIES ***\n",
            "\n",
            "CHRISTMAS STORIES\n",
            "\n",
            "[Illustration]\n"
          ]
        }
      ]
    },
    {
      "cell_type": "code",
      "source": [
        "print(docs[15].page_content)"
      ],
      "metadata": {
        "colab": {
          "base_uri": "https://localhost:8080/"
        },
        "id": "PGXlt51N2xyJ",
        "outputId": "b1ea8f9c-13a7-4f54-b54b-359196749573"
      },
      "execution_count": 27,
      "outputs": [
        {
          "output_type": "stream",
          "name": "stdout",
          "text": [
            "“How should you like to see my farm?” asked Santa Claus. And the next thing Annie and Willie knew they were in a toyland farm-yard. Houses, fences and barns with stalls for horses and cows, and everything as complete as a real farm. Horses rocked to and fro or rolled about on wheels; toy lambs, so wooly and white, said, “Baa-baa-baa,” when their heads were turned to one side.\n"
          ]
        }
      ]
    },
    {
      "cell_type": "code",
      "source": [
        "import openai\n",
        "from langchain.embeddings.openai import OpenAIEmbeddings\n",
        "\n",
        "embeddings = OpenAIEmbeddings(model_name=\"text-embedding-ada-002\")\n",
        "\n",
        "query_result = embeddings.embed_query(\"Hello world\")\n",
        "len(query_result)"
      ],
      "metadata": {
        "id": "F5GY9voPa0av",
        "colab": {
          "base_uri": "https://localhost:8080/"
        },
        "outputId": "84c19418-6504-4a3a-e546-18d33aadfe66"
      },
      "execution_count": 28,
      "outputs": [
        {
          "output_type": "execute_result",
          "data": {
            "text/plain": [
              "1536"
            ]
          },
          "metadata": {},
          "execution_count": 28
        }
      ]
    },
    {
      "cell_type": "code",
      "source": [
        "from langchain.llms import OpenAI\n",
        "\n",
        "model_name = \"gpt-3.5-turbo\"\n",
        "llm = OpenAI(model_name=model_name)"
      ],
      "metadata": {
        "id": "DuevPx4dbI4W"
      },
      "execution_count": 30,
      "outputs": []
    },
    {
      "cell_type": "code",
      "source": [
        "from langchain.chains.question_answering import load_qa_chain\n",
        "\n",
        "chain = load_qa_chain(llm, chain_type=\"stuff\")  # Modify as needed\n",
        "\n",
        "def get_answer(query):\n",
        "  answer = chain.run(input_documents=documents, question=query)\n",
        "  return answer\n",
        "\n",
        "query = \"What is the document about?\"\n",
        "\n",
        "print(get_answer(query))"
      ],
      "metadata": {
        "colab": {
          "base_uri": "https://localhost:8080/"
        },
        "id": "btzob73LW1fk",
        "outputId": "8c4f6a39-9669-41b0-a4e3-770f613a03a4"
      },
      "execution_count": 31,
      "outputs": [
        {
          "output_type": "stream",
          "name": "stdout",
          "text": [
            "The document is about a book of Christmas stories called \"Christmas Stories\" by Georgene Faulkner.\n"
          ]
        }
      ]
    },
    {
      "cell_type": "code",
      "source": [
        "query = \"Who is the author?\"\n",
        "get_answer(query)"
      ],
      "metadata": {
        "colab": {
          "base_uri": "https://localhost:8080/",
          "height": 35
        },
        "id": "-VFLiGixd7iK",
        "outputId": "97099d69-d71a-43d0-97e2-d1cd8c35c547"
      },
      "execution_count": 34,
      "outputs": [
        {
          "output_type": "execute_result",
          "data": {
            "text/plain": [
              "'The author is Georgene Faulkner.'"
            ],
            "application/vnd.google.colaboratory.intrinsic+json": {
              "type": "string"
            }
          },
          "metadata": {},
          "execution_count": 34
        }
      ]
    },
    {
      "cell_type": "code",
      "source": [
        "query = \"Where are the illustrations from\"\n",
        "get_answer(query)"
      ],
      "metadata": {
        "colab": {
          "base_uri": "https://localhost:8080/",
          "height": 35
        },
        "id": "EYn_6-DJZIWf",
        "outputId": "494acedd-a278-48d9-b896-3e482862c830"
      },
      "execution_count": 35,
      "outputs": [
        {
          "output_type": "execute_result",
          "data": {
            "text/plain": [
              "'The illustrations are from original paintings by Frederic Richardson.'"
            ],
            "application/vnd.google.colaboratory.intrinsic+json": {
              "type": "string"
            }
          },
          "metadata": {},
          "execution_count": 35
        }
      ]
    },
    {
      "cell_type": "code",
      "source": [
        "import gradio as gr\n",
        "import shutil\n",
        "\n",
        "# Function to handle the file upload and query\n",
        "def process_query(file, question):\n",
        "\n",
        "    # Save the uploaded file to the directory expected by the backend\n",
        "    file_path = os.path.join(directory, file.name)\n",
        "    with open(file_path, 'wb') as f:\n",
        "        shutil.copyfileobj(file, f)\n",
        "\n",
        "    # Load and split the documents\n",
        "    documents = load_docs(directory)\n",
        "    docs = split_docs(documents)\n",
        "\n",
        "    # Get the answer\n",
        "    answer = get_answer(question)\n",
        "\n",
        "    return answer\n",
        "\n",
        "# Gradio interface\n",
        "demo = gr.Interface(\n",
        "    fn=process_query,\n",
        "    inputs=[\n",
        "        gr.inputs.File(label=\"Upload a TXT or PDF file\"),\n",
        "        gr.inputs.Textbox(label=\"Enter your question\")\n",
        "    ],\n",
        "    outputs=\"text\",\n",
        "    title = \"AskMeDoc\"\n",
        ")\n",
        "\n",
        "demo.launch(share=True)"
      ],
      "metadata": {
        "colab": {
          "base_uri": "https://localhost:8080/",
          "height": 799
        },
        "id": "wev1o9sjYUXR",
        "outputId": "80c47bcf-1663-4bd1-d46d-17cdabdd3e8b"
      },
      "execution_count": 37,
      "outputs": [
        {
          "output_type": "stream",
          "name": "stderr",
          "text": [
            "<ipython-input-37-dc78ca3caada>:25: GradioDeprecationWarning: Usage of gradio.inputs is deprecated, and will not be supported in the future, please import your component from gradio.components\n",
            "  gr.inputs.File(label=\"Upload a TXT or PDF file\"),\n",
            "<ipython-input-37-dc78ca3caada>:25: GradioDeprecationWarning: `optional` parameter is deprecated, and it has no effect\n",
            "  gr.inputs.File(label=\"Upload a TXT or PDF file\"),\n",
            "<ipython-input-37-dc78ca3caada>:25: GradioDeprecationWarning: `keep_filename` parameter is deprecated, and it has no effect\n",
            "  gr.inputs.File(label=\"Upload a TXT or PDF file\"),\n",
            "<ipython-input-37-dc78ca3caada>:26: GradioDeprecationWarning: Usage of gradio.inputs is deprecated, and will not be supported in the future, please import your component from gradio.components\n",
            "  gr.inputs.Textbox(label=\"Enter your question\")\n",
            "<ipython-input-37-dc78ca3caada>:26: GradioDeprecationWarning: `optional` parameter is deprecated, and it has no effect\n",
            "  gr.inputs.Textbox(label=\"Enter your question\")\n",
            "<ipython-input-37-dc78ca3caada>:26: GradioDeprecationWarning: `numeric` parameter is deprecated, and it has no effect\n",
            "  gr.inputs.Textbox(label=\"Enter your question\")\n"
          ]
        },
        {
          "output_type": "stream",
          "name": "stdout",
          "text": [
            "Colab notebook detected. To show errors in colab notebook, set debug=True in launch()\n",
            "Running on public URL: https://7edf54d34e49893feb.gradio.live\n",
            "\n",
            "This share link expires in 72 hours. For free permanent hosting and GPU upgrades, run `gradio deploy` from Terminal to deploy to Spaces (https://huggingface.co/spaces)\n"
          ]
        },
        {
          "output_type": "display_data",
          "data": {
            "text/plain": [
              "<IPython.core.display.HTML object>"
            ],
            "text/html": [
              "<div><iframe src=\"https://7edf54d34e49893feb.gradio.live\" width=\"100%\" height=\"500\" allow=\"autoplay; camera; microphone; clipboard-read; clipboard-write;\" frameborder=\"0\" allowfullscreen></iframe></div>"
            ]
          },
          "metadata": {}
        },
        {
          "output_type": "execute_result",
          "data": {
            "text/plain": []
          },
          "metadata": {},
          "execution_count": 37
        }
      ]
    }
  ]
}
